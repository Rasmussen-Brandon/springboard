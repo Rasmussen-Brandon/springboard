{
 "cells": [
  {
   "cell_type": "code",
   "execution_count": 7,
   "metadata": {
    "collapsed": true
   },
   "outputs": [],
   "source": [
    "import ee\n",
    "import os\n",
    "import pandas\n",
    "\n",
    "# Initialize Earth Engine\n",
    "ee.Initialize()"
   ]
  },
  {
   "cell_type": "code",
   "execution_count": 8,
   "metadata": {
    "collapsed": false
   },
   "outputs": [
    {
     "name": "stdout",
     "output_type": "stream",
     "text": [
      "[u'Northern mixed grasslands', u'South Central Rockies forests', u'South Central Rockies forests', u'Montana Valley and Foothill grasslands', u'Northern short grasslands', u'North Central Rockies forests', u'Montana Valley and Foothill grasslands', u'South Central Rockies forests', u'Montana Valley and Foothill grasslands', u'South Central Rockies forests', u'Wyoming Basin shrub steppe', u'Snake-Columbia shrub steppe', u'Great Basin shrub steppe', u'South Central Rockies forests', u'South Central Rockies forests', u'South Central Rockies forests', u'Palouse grasslands', u'Okanagan dry forests', u'British Columbia mainland coastal forests', u'Cascade Mountains leeward forests', u'Puget lowland forests', u'Puget lowland forests', u'Puget lowland forests', u'Puget lowland forests', u'Puget lowland forests', u'Puget lowland forests', u'Puget lowland forests', u'Puget lowland forests', u'Puget lowland forests', u'Puget lowland forests', u'Puget lowland forests', u'Puget lowland forests', u'Central Pacific coastal forests', u'British Columbia mainland coastal forests', u'Puget lowland forests', u'Puget lowland forests', u'Puget lowland forests', u'Puget lowland forests', u'Central Pacific coastal forests', u'Puget lowland forests', u'Puget lowland forests', u'Puget lowland forests', u'Puget lowland forests', u'Puget lowland forests', u'Puget lowland forests', u'Puget lowland forests', u'Puget lowland forests', u'British Columbia mainland coastal forests', u'Central Pacific coastal forests', u'Central Pacific coastal forests', u'Central and Southern Cascades forests', u'Eastern Cascades forests', u'Willamette Valley forests', u'Central Pacific coastal forests', u'Snake-Columbia shrub steppe', u'Blue Mountains forests', u'Blue Mountains forests', u'Blue Mountains forests', u'Great Basin montane forests', u'Central and Southern Cascades forests', u'Blue Mountains forests', u'Central and Southern Cascades forests', u'Klamath-Siskiyou forests', u'Sierra Nevada forests', u'California interior chaparral and woodlands', u'Northern California coastal forests', u'California Central Valley grasslands', u'California interior chaparral and woodlands', u'California montane chaparral and woodlands', u'Northern California coastal forests', u'Great Basin montane forests', u'Great Basin montane forests', u'Great Basin montane forests', u'Great Basin montane forests', u'Great Basin montane forests', u'Great Basin montane forests', u'Great Basin montane forests', u'Great Basin montane forests', u'Great Basin montane forests', u'Great Basin montane forests', u'Great Basin montane forests', u'Great Basin montane forests', u'Colorado Plateau shrublands', u'Wasatch and Uinta montane forests', u'Wasatch and Uinta montane forests', u'Mojave desert', u'Great Basin montane forests', u'Great Basin montane forests', u'Great Basin montane forests', u'Great Basin montane forests', u'Great Basin montane forests', u'Great Basin montane forests', u'Great Basin montane forests', u'Great Basin montane forests', u'Great Basin montane forests', u'California montane chaparral and woodlands', u'California coastal sage and chaparral', u'Great Basin montane forests', u'Great Basin montane forests', u'Great Basin montane forests', u'Sonoran desert', u'Arizona Mountains forests', u'Sierra Juarez and San Pedro Martir pine-oak forests', u'California coastal sage and chaparral', u'California coastal sage and chaparral', u'California coastal sage and chaparral', u'California coastal sage and chaparral', u'California coastal sage and chaparral', u'California coastal sage and chaparral', u'California coastal sage and chaparral', u'Chihuahuan desert', u'Sierra Madre Occidental pine-oak forests', u'Sierra Madre Occidental pine-oak forests', u'Sierra Madre Occidental pine-oak forests', u'Sierra Madre Occidental pine-oak forests', u'Sierra Madre Occidental pine-oak forests', u'Chihuahuan desert', u'Sierra Madre Occidental pine-oak forests', u'Sierra Madre Occidental pine-oak forests', u'Sierra Madre Occidental pine-oak forests', u'Sierra Madre Occidental pine-oak forests', u'Sierra Madre Occidental pine-oak forests', u'Sierra Madre Occidental pine-oak forests', u'Sierra Madre Occidental pine-oak forests', u'Sierra Madre Occidental pine-oak forests', u'Sierra Madre Occidental pine-oak forests', u'Sierra Madre Occidental pine-oak forests', u'Sierra Madre Occidental pine-oak forests', u'Sierra Madre Occidental pine-oak forests', u'Sierra Madre Occidental pine-oak forests', u'Sierra Madre Occidental pine-oak forests', u'Sierra Madre Occidental pine-oak forests', u'Sierra Madre Occidental pine-oak forests', u'Sierra Madre Occidental pine-oak forests', u'Sierra Madre Occidental pine-oak forests', u'Sierra Madre Occidental pine-oak forests', u'Sierra Madre Oriental pine-oak forests', u'Arizona Mountains forests', u'Sierra Madre Oriental pine-oak forests', u'Western short grasslands', u'Sierra Madre Oriental pine-oak forests', u'Colorado Rockies forests', u'Arizona Mountains forests', u'Arizona Mountains forests', u'Arizona Mountains forests', u'Arizona Mountains forests', u'Arizona Mountains forests', u'Wasatch and Uinta montane forests', u'Wasatch and Uinta montane forests', u'Wyoming Basin shrub steppe']\n"
     ]
    }
   ],
   "source": [
    "# Read in relevant data and print properties of a feature collection\n",
    "modis_evi = ee.ImageCollection('MODIS/006/MOD13Q1').select(['EVI']) \n",
    "states = ee.FeatureCollection('ft:181cSJpsQXc9Gvh1w8Qm8FVtuawyHh_LlhfQwf0N0') \n",
    "western_states = states.filter(ee.Filter.eq('REGION10', 4)).filter(ee.Filter.inList('NAME10', ['Alaska', 'Hawaii']).Not()) \n",
    "ecoregions = ee.FeatureCollection('ft:1Ec8IWsP8asxN-ywSqgXWMuBaxI6pPaeh6hC64lA').filterBounds(western_states) \n",
    "\n",
    "print(ecoregions.aggregate_array('ECO_NAME').getInfo())"
   ]
  },
  {
   "cell_type": "code",
   "execution_count": 9,
   "metadata": {
    "collapsed": false
   },
   "outputs": [
    {
     "name": "stdout",
     "output_type": "stream",
     "text": [
      "                                      ECO_NAME         mean\n",
      "0                    Northern mixed grasslands  4500.794453\n",
      "1                South Central Rockies forests  2853.477095\n",
      "2                South Central Rockies forests  2610.081111\n",
      "3       Montana Valley and Foothill grasslands  1945.670554\n",
      "4                    Northern short grasslands  2456.547943\n",
      "5                North Central Rockies forests  3388.873326\n",
      "6       Montana Valley and Foothill grasslands  3068.395972\n",
      "7                South Central Rockies forests  2702.460070\n",
      "8       Montana Valley and Foothill grasslands  1996.414112\n",
      "9                South Central Rockies forests  3157.991563\n",
      "10                  Wyoming Basin shrub steppe  1393.951387\n",
      "11                 Snake-Columbia shrub steppe  1618.749349\n",
      "12                    Great Basin shrub steppe  1305.214594\n",
      "13               South Central Rockies forests  2597.873164\n",
      "14               South Central Rockies forests  1882.146666\n",
      "15               South Central Rockies forests  2335.563163\n",
      "16                          Palouse grasslands  2301.019019\n",
      "17                        Okanagan dry forests  3377.129073\n",
      "18   British Columbia mainland coastal forests  2932.088215\n",
      "19           Cascade Mountains leeward forests  2733.318358\n",
      "20                       Puget lowland forests  4839.473098\n",
      "21                       Puget lowland forests  5167.635552\n",
      "22                       Puget lowland forests  5753.029595\n",
      "23                       Puget lowland forests  4325.265043\n",
      "24                       Puget lowland forests  4599.359396\n",
      "25                       Puget lowland forests  4559.345833\n",
      "26                       Puget lowland forests  4252.111111\n",
      "27                       Puget lowland forests  4356.176913\n",
      "28                       Puget lowland forests  4487.765125\n",
      "29                       Puget lowland forests  4716.210227\n",
      "..                                         ...          ...\n",
      "120   Sierra Madre Occidental pine-oak forests  2501.053737\n",
      "121   Sierra Madre Occidental pine-oak forests  2569.565938\n",
      "122   Sierra Madre Occidental pine-oak forests  1861.184236\n",
      "123   Sierra Madre Occidental pine-oak forests  2031.986095\n",
      "124   Sierra Madre Occidental pine-oak forests  1799.717367\n",
      "125   Sierra Madre Occidental pine-oak forests  2373.956247\n",
      "126   Sierra Madre Occidental pine-oak forests  2251.220022\n",
      "127   Sierra Madre Occidental pine-oak forests  1838.971588\n",
      "128   Sierra Madre Occidental pine-oak forests  1240.704075\n",
      "129   Sierra Madre Occidental pine-oak forests  1856.423510\n",
      "130   Sierra Madre Occidental pine-oak forests  1138.632540\n",
      "131   Sierra Madre Occidental pine-oak forests  1536.828368\n",
      "132   Sierra Madre Occidental pine-oak forests  1979.048611\n",
      "133   Sierra Madre Occidental pine-oak forests  1836.633743\n",
      "134   Sierra Madre Occidental pine-oak forests  2227.257892\n",
      "135   Sierra Madre Occidental pine-oak forests  1572.286957\n",
      "136     Sierra Madre Oriental pine-oak forests  1358.301177\n",
      "137                  Arizona Mountains forests  2240.351149\n",
      "138     Sierra Madre Oriental pine-oak forests  1355.851410\n",
      "139                   Western short grasslands  1993.046047\n",
      "140     Sierra Madre Oriental pine-oak forests  1566.710994\n",
      "141                   Colorado Rockies forests  2814.058618\n",
      "142                  Arizona Mountains forests  2202.657016\n",
      "143                  Arizona Mountains forests  2022.323728\n",
      "144                  Arizona Mountains forests  1992.874957\n",
      "145                  Arizona Mountains forests  2187.356917\n",
      "146                  Arizona Mountains forests  2949.723254\n",
      "147          Wasatch and Uinta montane forests  2964.033026\n",
      "148          Wasatch and Uinta montane forests  2740.820219\n",
      "149                 Wyoming Basin shrub steppe  2293.906031\n",
      "\n",
      "[150 rows x 2 columns]\n"
     ]
    }
   ],
   "source": [
    "# Define function to convert EE feature collection to Pandas dataframe\n",
    "def fc2df(fc):\n",
    "    features = fc.getInfo()['features']\n",
    "    dictarr = []\n",
    "    for f in features:\n",
    "        attr = f['properties']\n",
    "        dictarr.append(attr)  \n",
    "    df = pandas.DataFrame(dictarr)\n",
    "    return df \n",
    "\n",
    "july_evi_mean = modis_evi.filterDate('2012-07-01','2012-08-01').mean()\n",
    "ecos_july_evi = july_evi_mean.reduceRegions(ecoregions,reducer=ee.Reducer.mean(),scale=250).select(['ECO_NAME','mean'])\n",
    "ecos_july_evi_df = fc2df(ecos_july_evi)\n",
    "\n",
    "print(ecos_july_evi_df)\n",
    "\n"
   ]
  },
  {
   "cell_type": "code",
   "execution_count": 11,
   "metadata": {
    "collapsed": false
   },
   "outputs": [],
   "source": [
    "directory = '/content/output'\n",
    "if not os.path.exists(directory):\n",
    "    os.makedirs(directory)\n",
    "\n",
    "# Write the results to a CSV\n",
    "ecos_july_evi_df.to_csv(os.path.join(directory, 'ecos_july_evi_df.csv'))"
   ]
  }
 ],
 "metadata": {
  "kernelspec": {
   "display_name": "Python 2",
   "language": "python",
   "name": "python2"
  },
  "language_info": {
   "codemirror_mode": {
    "name": "ipython",
    "version": 2
   },
   "file_extension": ".py",
   "mimetype": "text/x-python",
   "name": "python",
   "nbconvert_exporter": "python",
   "pygments_lexer": "ipython2",
   "version": "2.7.9"
  }
 },
 "nbformat": 4,
 "nbformat_minor": 2
}
